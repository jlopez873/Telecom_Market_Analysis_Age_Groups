{
 "cells": [
  {
   "cell_type": "code",
   "execution_count": 1,
   "id": "5f5dd607",
   "metadata": {},
   "outputs": [],
   "source": [
    "import numpy as np\n",
    "import pandas as pd\n",
    "import matplotlib.pyplot as plt\n",
    "import seaborn as sns\n",
    "import warnings\n",
    "%matplotlib inline\n",
    "plt.rcParams['figure.figsize'] = (18,10)\n",
    "plt.style.use('seaborn-whitegrid')\n",
    "pd.set_option('mode.chained_assignment', None)\n",
    "np.seterr(divide = 'ignore') \n",
    "warnings.filterwarnings('ignore')"
   ]
  },
  {
   "cell_type": "code",
   "execution_count": 2,
   "id": "1e71c708",
   "metadata": {},
   "outputs": [],
   "source": [
    "df = pd.read_csv('query_results.csv')"
   ]
  },
  {
   "cell_type": "code",
   "execution_count": 3,
   "id": "63fc5b7e",
   "metadata": {},
   "outputs": [
    {
     "data": {
      "text/html": [
       "<div>\n",
       "<style scoped>\n",
       "    .dataframe tbody tr th:only-of-type {\n",
       "        vertical-align: middle;\n",
       "    }\n",
       "\n",
       "    .dataframe tbody tr th {\n",
       "        vertical-align: top;\n",
       "    }\n",
       "\n",
       "    .dataframe thead th {\n",
       "        text-align: right;\n",
       "    }\n",
       "</style>\n",
       "<table border=\"1\" class=\"dataframe\">\n",
       "  <thead>\n",
       "    <tr style=\"text-align: right;\">\n",
       "      <th></th>\n",
       "      <th>churn</th>\n",
       "      <th>customers</th>\n",
       "      <th>avg_timely_responses</th>\n",
       "      <th>avg_timely_fixes</th>\n",
       "      <th>avg_timely_replacements</th>\n",
       "      <th>avg_reliability</th>\n",
       "      <th>avg_options</th>\n",
       "      <th>avg_respectful_response</th>\n",
       "      <th>avg_courteous_exchange</th>\n",
       "      <th>avg_evidence_of_active_listening</th>\n",
       "    </tr>\n",
       "  </thead>\n",
       "  <tbody>\n",
       "    <tr>\n",
       "      <th>0</th>\n",
       "      <td>No</td>\n",
       "      <td>7350</td>\n",
       "      <td>3.48</td>\n",
       "      <td>3.50</td>\n",
       "      <td>3.48</td>\n",
       "      <td>3.5</td>\n",
       "      <td>3.50</td>\n",
       "      <td>3.48</td>\n",
       "      <td>3.51</td>\n",
       "      <td>3.49</td>\n",
       "    </tr>\n",
       "    <tr>\n",
       "      <th>1</th>\n",
       "      <td>Yes</td>\n",
       "      <td>2650</td>\n",
       "      <td>3.52</td>\n",
       "      <td>3.53</td>\n",
       "      <td>3.50</td>\n",
       "      <td>3.5</td>\n",
       "      <td>3.48</td>\n",
       "      <td>3.54</td>\n",
       "      <td>3.51</td>\n",
       "      <td>3.51</td>\n",
       "    </tr>\n",
       "  </tbody>\n",
       "</table>\n",
       "</div>"
      ],
      "text/plain": [
       "  churn  customers  avg_timely_responses  avg_timely_fixes  \\\n",
       "0    No       7350                  3.48              3.50   \n",
       "1   Yes       2650                  3.52              3.53   \n",
       "\n",
       "   avg_timely_replacements  avg_reliability  avg_options  \\\n",
       "0                     3.48              3.5         3.50   \n",
       "1                     3.50              3.5         3.48   \n",
       "\n",
       "   avg_respectful_response  avg_courteous_exchange  \\\n",
       "0                     3.48                    3.51   \n",
       "1                     3.54                    3.51   \n",
       "\n",
       "   avg_evidence_of_active_listening  \n",
       "0                              3.49  \n",
       "1                              3.51  "
      ]
     },
     "execution_count": 3,
     "metadata": {},
     "output_type": "execute_result"
    }
   ],
   "source": [
    "df"
   ]
  },
  {
   "cell_type": "code",
   "execution_count": 4,
   "id": "c054f4a7",
   "metadata": {},
   "outputs": [],
   "source": [
    "df.set_index('churn', inplace=True)"
   ]
  },
  {
   "cell_type": "code",
   "execution_count": 5,
   "id": "da7c3af1",
   "metadata": {},
   "outputs": [],
   "source": [
    "df1 = df.transpose().drop('customers')"
   ]
  },
  {
   "cell_type": "code",
   "execution_count": 6,
   "id": "37274deb",
   "metadata": {},
   "outputs": [
    {
     "data": {
      "text/html": [
       "<div>\n",
       "<style scoped>\n",
       "    .dataframe tbody tr th:only-of-type {\n",
       "        vertical-align: middle;\n",
       "    }\n",
       "\n",
       "    .dataframe tbody tr th {\n",
       "        vertical-align: top;\n",
       "    }\n",
       "\n",
       "    .dataframe thead th {\n",
       "        text-align: right;\n",
       "    }\n",
       "</style>\n",
       "<table border=\"1\" class=\"dataframe\">\n",
       "  <thead>\n",
       "    <tr style=\"text-align: right;\">\n",
       "      <th>churn</th>\n",
       "      <th>No</th>\n",
       "      <th>Yes</th>\n",
       "    </tr>\n",
       "  </thead>\n",
       "  <tbody>\n",
       "    <tr>\n",
       "      <th>avg_timely_responses</th>\n",
       "      <td>3.48</td>\n",
       "      <td>3.52</td>\n",
       "    </tr>\n",
       "    <tr>\n",
       "      <th>avg_timely_fixes</th>\n",
       "      <td>3.50</td>\n",
       "      <td>3.53</td>\n",
       "    </tr>\n",
       "    <tr>\n",
       "      <th>avg_timely_replacements</th>\n",
       "      <td>3.48</td>\n",
       "      <td>3.50</td>\n",
       "    </tr>\n",
       "    <tr>\n",
       "      <th>avg_reliability</th>\n",
       "      <td>3.50</td>\n",
       "      <td>3.50</td>\n",
       "    </tr>\n",
       "    <tr>\n",
       "      <th>avg_options</th>\n",
       "      <td>3.50</td>\n",
       "      <td>3.48</td>\n",
       "    </tr>\n",
       "    <tr>\n",
       "      <th>avg_respectful_response</th>\n",
       "      <td>3.48</td>\n",
       "      <td>3.54</td>\n",
       "    </tr>\n",
       "    <tr>\n",
       "      <th>avg_courteous_exchange</th>\n",
       "      <td>3.51</td>\n",
       "      <td>3.51</td>\n",
       "    </tr>\n",
       "    <tr>\n",
       "      <th>avg_evidence_of_active_listening</th>\n",
       "      <td>3.49</td>\n",
       "      <td>3.51</td>\n",
       "    </tr>\n",
       "  </tbody>\n",
       "</table>\n",
       "</div>"
      ],
      "text/plain": [
       "churn                               No   Yes\n",
       "avg_timely_responses              3.48  3.52\n",
       "avg_timely_fixes                  3.50  3.53\n",
       "avg_timely_replacements           3.48  3.50\n",
       "avg_reliability                   3.50  3.50\n",
       "avg_options                       3.50  3.48\n",
       "avg_respectful_response           3.48  3.54\n",
       "avg_courteous_exchange            3.51  3.51\n",
       "avg_evidence_of_active_listening  3.49  3.51"
      ]
     },
     "execution_count": 6,
     "metadata": {},
     "output_type": "execute_result"
    }
   ],
   "source": [
    "df1"
   ]
  },
  {
   "cell_type": "code",
   "execution_count": 7,
   "id": "d72a8ca4",
   "metadata": {
    "scrolled": false
   },
   "outputs": [
    {
     "data": {
      "image/png": "[encoded data removed]",
      "text/plain": [
       "<Figure size 1296x720 with 1 Axes>"
      ]
     },
     "metadata": {},
     "output_type": "display_data"
    }
   ],
   "source": [
    "x = np.arange(len(df1.index))\n",
    "width = 0.35\n",
    "\n",
    "fig, ax = plt.subplots()\n",
    "ax.bar_label(ax.bar(x - width/2, df1.No, width, label='churned'), padding=3)\n",
    "ax.bar_label(ax.bar(x + width/2, df1.Yes, width, label='active'), padding=3)\n",
    "ax.set_ylabel('Score')\n",
    "ax.set_xlabel('Survey Question')\n",
    "ax.set_title('Scores of Survey Questions by Churned and Active Customers')\n",
    "ax.set_xticks(x, df1.index)\n",
    "\n",
    "plt.legend()\n",
    "plt.tight_layout()"
   ]
  },
  {
   "cell_type": "code",
   "execution_count": null,
   "id": "2573f09f",
   "metadata": {},
   "outputs": [],
   "source": []
  }
 ],
 "metadata": {
  "kernelspec": {
   "display_name": "Python 3 (ipykernel)",
   "language": "python",
   "name": "python3"
  },
  "language_info": {
   "codemirror_mode": {
    "name": "ipython",
    "version": 3
   },
   "file_extension": ".py",
   "mimetype": "text/x-python",
   "name": "python",
   "nbconvert_exporter": "python",
   "pygments_lexer": "ipython3",
   "version": "3.9.12"
  }
 },
 "nbformat": 4,
 "nbformat_minor": 5
}
